{
  "nbformat": 4,
  "nbformat_minor": 0,
  "metadata": {
    "colab": {
      "provenance": []
    },
    "kernelspec": {
      "name": "python3",
      "display_name": "Python 3"
    },
    "language_info": {
      "name": "python"
    }
  },
  "cells": [
    {
      "cell_type": "markdown",
      "source": [
        "# ให้น.ศ. เขียน python script hw2_xxxx.py ซึ่งใช้ AWS SDK for Python (Boto3) เพื่อ\n",
        "สร้าง Amazon S3 bucket ชื่อ nyctlc-cs653-xxxx โดยแทน xxxx ด้วยเลข 4 ตัวท้ายของรหัสน.ศ. ของตัวเอง \n"
      ],
      "metadata": {
        "id": "TaZUSa83YDSa"
      }
    },
    {
      "cell_type": "markdown",
      "source": [
        "นำเข้าข้อมูล NYC TLC trip data (จาก https://registry.opendata.aws/nyc-tlc-trip-records-pds/)  ที่เกี่ยวข้องเข้า Bucket ที่สร้างไว้ในข้อ 1) "
      ],
      "metadata": {
        "id": "xsz4XzSJaBkg"
      }
    },
    {
      "cell_type": "code",
      "execution_count": null,
      "metadata": {
        "id": "APcFAjzMB431"
      },
      "outputs": [],
      "source": [
        "pip install pyarrow"
      ]
    },
    {
      "cell_type": "code",
      "source": [
        "import boto3\n",
        "import botocore\n",
        "import pandas as pd\n",
        "from IPython.display import display, Markdown"
      ],
      "metadata": {
        "id": "sPL09epaYK1O"
      },
      "execution_count": null,
      "outputs": []
    },
    {
      "cell_type": "code",
      "source": [
        "s3 = boto3.client('s3')\n",
        "s3_resource = boto3.resource('s3')"
      ],
      "metadata": {
        "id": "-DiW54SXYPYX"
      },
      "execution_count": null,
      "outputs": []
    },
    {
      "cell_type": "code",
      "source": [
        "def create_bucket(bucket):\n",
        "    import logging\n",
        "\n",
        "    try:\n",
        "        s3.create_bucket(Bucket=bucket)\n",
        "    except botocore.exceptions.ClientError as e:\n",
        "        logging.error(e)\n",
        "        return 'Bucket ' + bucket + ' could not be created.'\n",
        "    return 'Created or already exists ' + bucket + ' bucket.'"
      ],
      "metadata": {
        "id": "IZR8KOKnYSdO"
      },
      "execution_count": null,
      "outputs": []
    },
    {
      "cell_type": "code",
      "source": [
        "create_bucket('nyctlc-cs653-5199')"
      ],
      "metadata": {
        "id": "ccJYvU6CYXdC"
      },
      "execution_count": null,
      "outputs": []
    },
    {
      "cell_type": "code",
      "source": [
        "def list_buckets(match=''):\n",
        "    response = s3.list_buckets()\n",
        "    if match:\n",
        "        print(f'Existing buckets containing \"{match}\" string:')\n",
        "    else:\n",
        "        print('All existing buckets:')\n",
        "    for bucket in response['Buckets']:\n",
        "        if match:\n",
        "            if match in bucket[\"Name\"]:\n",
        "                print(f'  {bucket[\"Name\"]}')"
      ],
      "metadata": {
        "id": "ysUl-RuqYbWg"
      },
      "execution_count": null,
      "outputs": []
    },
    {
      "cell_type": "code",
      "source": [
        "list_buckets(match='open')"
      ],
      "metadata": {
        "id": "OG_3LXNLYgm9"
      },
      "execution_count": null,
      "outputs": []
    },
    {
      "cell_type": "code",
      "source": [
        "def list_bucket_contents(bucket, match='', size_mb=0):\n",
        "    bucket_resource = s3_resource.Bucket(bucket)\n",
        "    total_size_gb = 0\n",
        "    total_files = 0\n",
        "    match_size_gb = 0\n",
        "    match_files = 0\n",
        "    for key in bucket_resource.objects.all():\n",
        "        key_size_mb = key.size/1024/1024\n",
        "        total_size_gb += key_size_mb\n",
        "        total_files += 1\n",
        "        list_check = False\n",
        "        if not match:\n",
        "            list_check = True\n",
        "        elif match in key.key:\n",
        "            list_check = True\n",
        "        if list_check and not size_mb:\n",
        "            match_files += 1\n",
        "            match_size_gb += key_size_mb\n",
        "            print(f'{key.key} ({key_size_mb:3.0f}MB)')\n",
        "        elif list_check and key_size_mb <= size_mb:\n",
        "            match_files += 1\n",
        "            match_size_gb += key_size_mb\n",
        "            print(f'{key.key} ({key_size_mb:3.0f}MB)')\n",
        "\n",
        "    if match:\n",
        "        print(f'Matched file size is {match_size_gb/1024:3.1f}GB with {match_files} files')            \n",
        "    \n",
        "    print(f'Bucket {bucket} total size is {total_size_gb/1024:3.1f}GB with {total_files} files')"
      ],
      "metadata": {
        "id": "F11dkfFWYk1B"
      },
      "execution_count": null,
      "outputs": []
    },
    {
      "cell_type": "code",
      "source": [
        "list_bucket_contents(bucket='nyc-tlc', match='2017', size_mb=250)"
      ],
      "metadata": {
        "id": "uM5x8MyWYog9"
      },
      "execution_count": null,
      "outputs": []
    },
    {
      "cell_type": "code",
      "source": [
        "def preview(bucket, key):\n",
        "    data_source = {\n",
        "            'Bucket': bucket,\n",
        "            'Key': key\n",
        "        }\n",
        "    # Generate the URL to get Key from Bucket\n",
        "    url = s3.generate_presigned_url(\n",
        "        ClientMethod = 'get_object',\n",
        "        Params = data_source\n",
        "    )\n",
        "\n",
        "    data = pd.read_parquet(url, engine='pyarrow')\n",
        "    return data"
      ],
      "metadata": {
        "id": "-nUwuANdYsdT"
      },
      "execution_count": null,
      "outputs": []
    },
    {
      "cell_type": "code",
      "source": [
        "df = preview(bucket='nyc-tlc', key=f'trip data/yellow_tripdata_2017-01.parquet')\n",
        "df.head(10)"
      ],
      "metadata": {
        "id": "b2sjSNImYvzH"
      },
      "execution_count": null,
      "outputs": []
    },
    {
      "cell_type": "code",
      "source": [
        "df.shape"
      ],
      "metadata": {
        "id": "WdLfcVk5Yx7T"
      },
      "execution_count": null,
      "outputs": []
    },
    {
      "cell_type": "code",
      "source": [
        "df.info()"
      ],
      "metadata": {
        "id": "lKOb_ZoYY5IQ"
      },
      "execution_count": null,
      "outputs": []
    },
    {
      "cell_type": "code",
      "source": [
        "df.describe()"
      ],
      "metadata": {
        "id": "5RbcEGqGY76X"
      },
      "execution_count": null,
      "outputs": []
    },
    {
      "cell_type": "code",
      "source": [
        "def key_exists(bucket, key):\n",
        "    try:\n",
        "        s3_resource.Object(bucket, key).load()\n",
        "    except botocore.exceptions.ClientError as e:\n",
        "        if e.response['Error']['Code'] == \"404\":\n",
        "            # The key does not exist.\n",
        "            return(False)\n",
        "        else:\n",
        "            # Something else has gone wrong.\n",
        "            raise\n",
        "    else:\n",
        "        # The key does exist.\n",
        "        return(True)\n",
        "\n",
        "def copy_among_buckets(from_bucket, from_key, to_bucket, to_key):\n",
        "    if not key_exists(to_bucket, to_key):\n",
        "        s3_resource.meta.client.copy({'Bucket': from_bucket, 'Key': from_key}, \n",
        "                                        to_bucket, to_key)        \n",
        "        print(f'File {to_key} saved to S3 bucket {to_bucket}')\n",
        "    else:\n",
        "        print(f'File {to_key} already exists in S3 bucket {to_bucket}') "
      ],
      "metadata": {
        "id": "4eAw2NB9Y_OG"
      },
      "execution_count": null,
      "outputs": []
    },
    {
      "cell_type": "code",
      "source": [
        "for i in range(1,6):\n",
        "    month_str = f'0{i}' if i < 10 else f'{i}'\n",
        "    from_key = f'trip data/yellow_tripdata_2017-{month_str}.parquet'\n",
        "    to_key = from_key\n",
        "    copy_among_buckets(from_bucket='nyc-tlc', from_key=from_key,\n",
        "                      to_bucket='nyctlc-cs653-5199', to_key=f'yellow_tripdata_2017-{month_str}.parquet')"
      ],
      "metadata": {
        "id": "eDI2g4XGZB9X"
      },
      "execution_count": null,
      "outputs": []
    },
    {
      "cell_type": "markdown",
      "source": [
        "# query ข้อมูลด้วย Amazon S3 select **เพื่อตอบคำถามต่อไปนี้**"
      ],
      "metadata": {
        "id": "1xr05z84ZVfZ"
      }
    },
    {
      "cell_type": "markdown",
      "source": [
        "ในเดือน Jan 2017 มีจำนวน yellow taxi rides ทั้งหมดเท่าไร แยกจำนวน rides ตามประเภทการจ่ายเงิน (payment)"
      ],
      "metadata": {
        "id": "ouhhY5ROZZNI"
      }
    },
    {
      "cell_type": "code",
      "source": [
        "import boto3\n",
        "s3 = boto3.client('s3')\n",
        "total = 0\n",
        "for i in range(1,6):\n",
        "    resp = s3.select_object_content(\n",
        "        Bucket = 'nyctlc-cs653-5199',\n",
        "        Key = 'yellow_tripdata_2017-01.parquet',\n",
        "        Expression = f'SELECT COUNT(payment_type) FROM s3object s WHERE payment_type={i}',\n",
        "        ExpressionType='SQL',  \n",
        "        InputSerialization={'Parquet':{}},\n",
        "        OutputSerialization={'CSV':{}},\n",
        "    )\n",
        "    for event in resp['Payload']:\n",
        "        if 'Records' in event:\n",
        "            records = event['Records']['Payload'].decode('utf-8')\n",
        "            total = total + int(records)\n",
        "            print(f'จำนวน yellow taxi ที่มี payment_type={i} เท่ากับ {records}')\n",
        "print(f'มี yellow taxi รวมทั้งสิ้น {total} คัน')"
      ],
      "metadata": {
        "id": "dxo7aIHJZeXU"
      },
      "execution_count": null,
      "outputs": []
    },
    {
      "cell_type": "markdown",
      "source": [
        "จำนวน yellow taxi ที่มี payment_type=1 เท่ากับ 6506189\n",
        "\n",
        "จำนวน yellow taxi ที่มี payment_type=2 เท่ากับ 3144926\n",
        "\n",
        "จำนวน yellow taxi ที่มี payment_type=3 เท่ากับ 46257\n",
        "\n",
        "จำนวน yellow taxi ที่มี payment_type=4 เท่ากับ 13447\n",
        "\n",
        "จำนวน yellow taxi ที่มี payment_type=5 เท่ากับ 1\n",
        "\n",
        "มี yellow taxi รวมทั้งสิ้น 9710820 คัน"
      ],
      "metadata": {
        "id": "spWL_6wkap1z"
      }
    },
    {
      "cell_type": "markdown",
      "source": [
        "ตอบ ในเดือน Jan 2017 Yellow taxi rides ในแต่ละจุดรับผู้โดยสาร (Pickup location) เป็นจำนวน rides มากน้อยเท่าไร และมีค่าโดยสารรวมของ rides และจำนวนผู้โดยสารเฉลี่ยต่อ rides ในแต่ละจุดเท่าไร "
      ],
      "metadata": {
        "id": "yPdSRXCGZe1B"
      }
    },
    {
      "cell_type": "code",
      "source": [
        "import boto3\n",
        "s3 = boto3.client('s3')\n",
        "total = 0\n",
        "for i in range(1,6):\n",
        "    resp = s3.select_object_content(\n",
        "        Bucket = 'nyctlc-cs653-5199',\n",
        "        Key = 'yellow_tripdata_2017-01.parquet',\n",
        "        Expression = f'SELECT COUNT(PULocationID) FROM s3object s WHERE PULocationID={i}',\n",
        "        ExpressionType='SQL',  \n",
        "        InputSerialization={'Parquet':{}},\n",
        "        OutputSerialization={'CSV':{}},\n",
        "    )\n",
        "    for event in resp['Payload']:\n",
        "        if 'Records' in event:\n",
        "            records = event['Records']['Payload'].decode('utf-8')\n",
        "            total = total + int(records)\n",
        "            print(f'จำนวน yellow taxi ที่มี PULocationID={i} เท่ากับ {records}')\n",
        "print(f'มี yellow taxi รวมทั้งสิ้น {total} คัน')"
      ],
      "metadata": {
        "id": "4ZBYabUAcAj3"
      },
      "execution_count": null,
      "outputs": []
    },
    {
      "cell_type": "markdown",
      "source": [
        "ตอบ PULocationID ทั้ง 265 ค่า ตัวอย่าง จุดรับผู้โดย􏰁ารจุดที่ 39 มีค่า PULocationID=180 แปลว่ามีรถแท็กซี่จอด ณ จุด นั้น 180 เที่ยว\n",
        "ในการคานวณค่าโดยการรวมโดยแบ่งตาม PULocationID จะแบ่งการทางานอยู่ในฟังก์ชัน และการรับการคำนวณผู้โดยสารเฉลี่ยต่อเที่ยว ใช้ฟังก์ชัน\n",
        " \n",
        "cal_total_fare\n",
        "cal_avg_passenger_count\n",
        " \n",
        "ในการคานวณค่าโดยสารรวมเลือกพิจารณาคอลัมน์total_amountเพราะเป็นค่าใช้จ่ายที่ ครอบคลุมค่าโดยสาร ค่าผ่านทาง และค่าภาษี ในค่าผ่านทาง S3 Select มีการใช้ฟังก์ชัน SUM ช่วยหาผลรวม SELECT SUM(total_amount) FROM s3object s WHERE PULocationID={ id }"
      ],
      "metadata": {
        "id": "7uw0C75qdFyG"
      }
    },
    {
      "cell_type": "code",
      "source": [
        "import numpy as np\n",
        "yellow_jan_PULocationID = df['PULocationID'].unique()\n",
        "np.sort(yellow_jan_PULocationID)"
      ],
      "metadata": {
        "id": "v0dNDhRpZiJy"
      },
      "execution_count": null,
      "outputs": []
    },
    {
      "cell_type": "code",
      "source": [
        "def cal_total_fare(id):\n",
        "  resp = s3.select_object_content(\n",
        "        Bucket = 'nyctlc-cs653-5199',\n",
        "        Key = 'yellow_tripdata_2017-01.parquet',\n",
        "        Expression = f'SELECT SUM(total_amount) FROM s3object s WHERE PULocation={id}',\n",
        "        ExpressionType='SQL',  \n",
        "        InputSerialization={'Parquet':{}},\n",
        "        OutputSerialization={'CSV':{}},\n",
        "    )\n",
        "    for event in resp['Payload']:\n",
        "        if 'Records' in event:\n",
        "            records = event['Records']['Payload'].decode('utf-8')\n",
        "            try:\n",
        "              isinstance(float(records),float)\n",
        "              return float(records)\n",
        "            except:\n",
        "              return None"
      ],
      "metadata": {
        "id": "iT-WMEZQekH-"
      },
      "execution_count": null,
      "outputs": []
    },
    {
      "cell_type": "markdown",
      "source": [
        "ตอบ มีการสร้าง list 3 ตัวเพ่ือเตรียมการสร้าง dataFrame ในตอนท้าย ได้แก่ PULocationID สำาหรับเก็บ id ของจุดรับผู้โดยสารทั้ง 265 แห่ง, สำาหรับเก็บค่าโดยสารรวม แบ่งตาม PULocationID, และสำหรับเก็บจานวนผู้โดยสารเฉลี่ยต่อ เที่ยวในแต่ละจุด ดังนั้น list ท้ัง 3 ตัวนี้ต้องมีขนาด 265 เท่ากัน"
      ],
      "metadata": {
        "id": "Jbar7n4TgiHN"
      }
    },
    {
      "cell_type": "markdown",
      "source": [
        "ในเดือน Jan - Mar 2017 มีจำนวน yellow taxi rides ทั้งหมดเท่าไร แยกจำนวน rides ตามประเภทการจ่ายเงิน (payment)"
      ],
      "metadata": {
        "id": "2FT4A3lsZkuG"
      }
    },
    {
      "cell_type": "code",
      "source": [
        "def cal_rides_each_month(month):\n",
        "  total = 0\n",
        "  for type in range(1,6)\n",
        "    resp = s3.select_object_content(\n",
        "          Bucket = 'nyctlc-cs653-5199',\n",
        "          Key = 'yellow_tripdata_2017-{month}.parquet',\n",
        "          Expression = f'SELECT COUNT(payment_type) FROM s3object s WHERE payment_type={type}',\n",
        "          ExpressionType='SQL',  \n",
        "          InputSerialization={'Parquet':{}},\n",
        "          OutputSerialization={'CSV':{}},\n",
        "      )\n",
        "    for event in resp['Payload']:\n",
        "        if 'Records' in event:\n",
        "            records = event['Records']['Payload'].decode('utf-8')\n",
        "            records =int(records)\n",
        "            total = total + records\n",
        "            type1+type.append(records)\n",
        "            print(f'จำนวน yellow taxi rides เดือน {mont} ที่มี payment_type={type} เท่ากับ {records}')\n",
        "    sum_rides.append(total)\n",
        "    print(f'rides เดือน {month} มี yellow taxi rides รวมทั้งสิ้น {total} เที่ยว')"
      ],
      "metadata": {
        "id": "3Rhe3kvtZl7d"
      },
      "execution_count": null,
      "outputs": []
    },
    {
      "cell_type": "code",
      "source": [
        "for month in range(1,6):\n",
        "  cal_rides_each_month(month)"
      ],
      "metadata": {
        "id": "BTkt5qyUmSF7"
      },
      "execution_count": null,
      "outputs": []
    },
    {
      "cell_type": "code",
      "source": [
        "data={\n",
        "    'month':['Jan','Feb','Mar','Apr','May'],\n",
        "    'payment type 1': type1,\n",
        "    'payment type 2': type2,\n",
        "    'payment type 3': type3,\n",
        "    'payment type 4': type4,\n",
        "    'payment type 5': type5,\n",
        "    'sum':sum_rides\n",
        "}\n",
        "hw_item3 = pd.DataFrame(data)\n",
        "hw_item3"
      ],
      "metadata": {
        "id": "59BlYQpDmglR"
      },
      "execution_count": null,
      "outputs": []
    }
  ]
}